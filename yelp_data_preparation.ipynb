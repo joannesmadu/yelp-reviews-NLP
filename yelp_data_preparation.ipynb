{
 "cells": [
  {
   "cell_type": "code",
   "execution_count": 17,
   "id": "5c8df9e5",
   "metadata": {},
   "outputs": [],
   "source": [
    "import pandas as pd\n",
    "import polars as pl\n",
    "import numpy as np"
   ]
  },
  {
   "cell_type": "code",
   "execution_count": 18,
   "id": "fcb47035",
   "metadata": {},
   "outputs": [
    {
     "data": {
      "text/html": [
       "<div><style>\n",
       ".dataframe > thead > tr > th,\n",
       ".dataframe > tbody > tr > td {\n",
       "  text-align: right;\n",
       "  white-space: pre-wrap;\n",
       "}\n",
       "</style>\n",
       "<small>shape: (559_999, 2)</small><table border=\"1\" class=\"dataframe\"><thead><tr><th>1</th><th>Unfortunately, the frustration of being Dr. Goldberg&#x27;s patient is a repeat of the experience I&#x27;ve had with so many other doctors in NYC -- good doctor, terrible staff.  It seems that his staff simply never answers the phone.  It usually takes 2 hours of repeated calling to get an answer.  Who has time for that or wants to deal with it?  I have run into this problem with many other doctors and I just don&#x27;t get it.  You have office workers, you have patients with medical needs, why isn&#x27;t anyone answering the phone?  It&#x27;s incomprehensible and not work the aggravation.  It&#x27;s with regret that I feel that I have to give Dr. Goldberg 2 stars.</th></tr><tr><td>i64</td><td>str</td></tr></thead><tbody><tr><td>2</td><td>&quot;Been going to …</td></tr><tr><td>1</td><td>&quot;I don&#x27;t know w…</td></tr><tr><td>1</td><td>&quot;I&#x27;m writing th…</td></tr><tr><td>2</td><td>&quot;All the food i…</td></tr><tr><td>1</td><td>&quot;Wing sauce is …</td></tr><tr><td>1</td><td>&quot;Owning a drivi…</td></tr><tr><td>1</td><td>&quot;This place is …</td></tr><tr><td>2</td><td>&quot;Before I final…</td></tr><tr><td>2</td><td>&quot;I drove by yes…</td></tr><tr><td>1</td><td>&quot;After waiting …</td></tr><tr><td>2</td><td>&quot;Wonderful reub…</td></tr><tr><td>2</td><td>&quot;After a mornin…</td></tr><tr><td>&hellip;</td><td>&hellip;</td></tr><tr><td>1</td><td>&quot;Really disappo…</td></tr><tr><td>2</td><td>&quot;When Corey sen…</td></tr><tr><td>1</td><td>&quot;Wow, really?  …</td></tr><tr><td>2</td><td>&quot;We tried the C…</td></tr><tr><td>1</td><td>&quot;Long line, ine…</td></tr><tr><td>1</td><td>&quot;First: Please …</td></tr><tr><td>1</td><td>&quot;I&#x27;m shocked ev…</td></tr><tr><td>2</td><td>&quot;Ryan was as go…</td></tr><tr><td>2</td><td>&quot;Professional \\…</td></tr><tr><td>1</td><td>&quot;Phone calls al…</td></tr><tr><td>1</td><td>&quot;Looks like all…</td></tr><tr><td>2</td><td>&quot;Ryan Rocks! I …</td></tr></tbody></table></div>"
      ],
      "text/plain": [
       "shape: (559_999, 2)\n",
       "┌─────┬───────────────────────────────────┐\n",
       "│ 1   ┆ Unfortunately, the frustration o… │\n",
       "│ --- ┆ ---                               │\n",
       "│ i64 ┆ str                               │\n",
       "╞═════╪═══════════════════════════════════╡\n",
       "│ 2   ┆ Been going to Dr. Goldberg for o… │\n",
       "│ 1   ┆ I don't know what Dr. Goldberg w… │\n",
       "│ 1   ┆ I'm writing this review to give … │\n",
       "│ 2   ┆ All the food is great here. But … │\n",
       "│ …   ┆ …                                 │\n",
       "│ 2   ┆ Professional \\nFriendly\\nOn time… │\n",
       "│ 1   ┆ Phone calls always go to voicema… │\n",
       "│ 1   ┆ Looks like all of the good revie… │\n",
       "│ 2   ┆ Ryan Rocks! I called him this mo… │\n",
       "└─────┴───────────────────────────────────┘"
      ]
     },
     "execution_count": 18,
     "metadata": {},
     "output_type": "execute_result"
    }
   ],
   "source": [
    "train_df = pl.read_csv(\"/Users/jmadu1/Documents/DS_Projects/yelp_review_polarity_csv/train.csv\")\n",
    "train_df"
   ]
  },
  {
   "cell_type": "code",
   "execution_count": 23,
   "id": "98f0a3a6",
   "metadata": {},
   "outputs": [],
   "source": [
    "#train_df = train_df.set_axis(['target', 'reviews'], axis=1)\n",
    "#train_df"
   ]
  },
  {
   "cell_type": "code",
   "execution_count": 24,
   "id": "0c08c540",
   "metadata": {
    "scrolled": true
   },
   "outputs": [
    {
     "ename": "SchemaFieldNotFoundError",
     "evalue": "1",
     "output_type": "error",
     "traceback": [
      "\u001b[0;31m---------------------------------------------------------------------------\u001b[0m",
      "\u001b[0;31mSchemaFieldNotFoundError\u001b[0m                  Traceback (most recent call last)",
      "Cell \u001b[0;32mIn [24], line 1\u001b[0m\n\u001b[0;32m----> 1\u001b[0m train_df \u001b[38;5;241m=\u001b[39m \u001b[43mtrain_df\u001b[49m\u001b[38;5;241;43m.\u001b[39;49m\u001b[43mrename\u001b[49m\u001b[43m(\u001b[49m\u001b[43mmapping\u001b[49m\u001b[43m \u001b[49m\u001b[38;5;241;43m=\u001b[39;49m\u001b[43m \u001b[49m\u001b[43m{\u001b[49m\u001b[38;5;124;43m\"\u001b[39;49m\u001b[38;5;124;43m1\u001b[39;49m\u001b[38;5;124;43m\"\u001b[39;49m\u001b[43m:\u001b[49m\u001b[43m \u001b[49m\u001b[38;5;124;43m\"\u001b[39;49m\u001b[38;5;124;43mtarget\u001b[39;49m\u001b[38;5;124;43m\"\u001b[39;49m\u001b[43m,\u001b[49m\u001b[43m \u001b[49m\u001b[38;5;124;43m\"\u001b[39;49m\u001b[38;5;124;43mUnfortunately, the frustration of being Dr. Goldberg\u001b[39;49m\u001b[38;5;124;43m'\u001b[39;49m\u001b[38;5;124;43ms patient is a repeat of the experience I\u001b[39;49m\u001b[38;5;124;43m'\u001b[39;49m\u001b[38;5;124;43mve had with so many other doctors in NYC -- good doctor, terrible staff.  It seems that his staff simply never answers the phone.  It usually takes 2 hours of repeated calling to get an answer.  Who has time for that or wants to deal with it?  I have run into this problem with many other doctors and I just don\u001b[39;49m\u001b[38;5;124;43m'\u001b[39;49m\u001b[38;5;124;43mt get it.  You have office workers, you have patients with medical needs, why isn\u001b[39;49m\u001b[38;5;124;43m'\u001b[39;49m\u001b[38;5;124;43mt anyone answering the phone?  It\u001b[39;49m\u001b[38;5;124;43m'\u001b[39;49m\u001b[38;5;124;43ms incomprehensible and not work the aggravation.  It\u001b[39;49m\u001b[38;5;124;43m'\u001b[39;49m\u001b[38;5;124;43ms with regret that I feel that I have to give Dr. Goldberg 2 stars.\u001b[39;49m\u001b[38;5;124;43m\"\u001b[39;49m\u001b[43m:\u001b[49m\u001b[38;5;124;43m\"\u001b[39;49m\u001b[38;5;124;43mreviews\u001b[39;49m\u001b[38;5;124;43m\"\u001b[39;49m\u001b[43m}\u001b[49m\u001b[43m)\u001b[49m\n\u001b[1;32m      2\u001b[0m train_df\n",
      "File \u001b[0;32m~/.pyenv/versions/3.10.6/envs/lewagon_current/lib/python3.10/site-packages/polars/dataframe/frame.py:3859\u001b[0m, in \u001b[0;36mDataFrame.rename\u001b[0;34m(self, mapping)\u001b[0m\n\u001b[1;32m   3832\u001b[0m \u001b[38;5;28;01mdef\u001b[39;00m \u001b[38;5;21mrename\u001b[39m(\u001b[38;5;28mself\u001b[39m, mapping: \u001b[38;5;28mdict\u001b[39m[\u001b[38;5;28mstr\u001b[39m, \u001b[38;5;28mstr\u001b[39m]) \u001b[38;5;241m-\u001b[39m\u001b[38;5;241m>\u001b[39m DataFrame:\n\u001b[1;32m   3833\u001b[0m     \u001b[38;5;124;03m\"\"\"\u001b[39;00m\n\u001b[1;32m   3834\u001b[0m \u001b[38;5;124;03m    Rename column names.\u001b[39;00m\n\u001b[1;32m   3835\u001b[0m \n\u001b[0;32m   (...)\u001b[0m\n\u001b[1;32m   3857\u001b[0m \n\u001b[1;32m   3858\u001b[0m \u001b[38;5;124;03m    \"\"\"\u001b[39;00m\n\u001b[0;32m-> 3859\u001b[0m     \u001b[38;5;28;01mreturn\u001b[39;00m \u001b[38;5;28;43mself\u001b[39;49m\u001b[38;5;241;43m.\u001b[39;49m\u001b[43mlazy\u001b[49m\u001b[43m(\u001b[49m\u001b[43m)\u001b[49m\u001b[38;5;241;43m.\u001b[39;49m\u001b[43mrename\u001b[49m\u001b[43m(\u001b[49m\u001b[43mmapping\u001b[49m\u001b[43m)\u001b[49m\u001b[38;5;241;43m.\u001b[39;49m\u001b[43mcollect\u001b[49m\u001b[43m(\u001b[49m\u001b[43m_eager\u001b[49m\u001b[38;5;241;43m=\u001b[39;49m\u001b[38;5;28;43;01mTrue\u001b[39;49;00m\u001b[43m)\u001b[49m\n",
      "File \u001b[0;32m~/.pyenv/versions/3.10.6/envs/lewagon_current/lib/python3.10/site-packages/polars/utils/deprecation.py:100\u001b[0m, in \u001b[0;36mdeprecate_renamed_parameter.<locals>.decorate.<locals>.wrapper\u001b[0;34m(*args, **kwargs)\u001b[0m\n\u001b[1;32m     95\u001b[0m \u001b[38;5;129m@wraps\u001b[39m(function)\n\u001b[1;32m     96\u001b[0m \u001b[38;5;28;01mdef\u001b[39;00m \u001b[38;5;21mwrapper\u001b[39m(\u001b[38;5;241m*\u001b[39margs: P\u001b[38;5;241m.\u001b[39margs, \u001b[38;5;241m*\u001b[39m\u001b[38;5;241m*\u001b[39mkwargs: P\u001b[38;5;241m.\u001b[39mkwargs) \u001b[38;5;241m-\u001b[39m\u001b[38;5;241m>\u001b[39m T:\n\u001b[1;32m     97\u001b[0m     _rename_keyword_argument(\n\u001b[1;32m     98\u001b[0m         old_name, new_name, kwargs, function\u001b[38;5;241m.\u001b[39m\u001b[38;5;18m__name__\u001b[39m, version\n\u001b[1;32m     99\u001b[0m     )\n\u001b[0;32m--> 100\u001b[0m     \u001b[38;5;28;01mreturn\u001b[39;00m \u001b[43mfunction\u001b[49m\u001b[43m(\u001b[49m\u001b[38;5;241;43m*\u001b[39;49m\u001b[43margs\u001b[49m\u001b[43m,\u001b[49m\u001b[43m \u001b[49m\u001b[38;5;241;43m*\u001b[39;49m\u001b[38;5;241;43m*\u001b[39;49m\u001b[43mkwargs\u001b[49m\u001b[43m)\u001b[49m\n",
      "File \u001b[0;32m~/.pyenv/versions/3.10.6/envs/lewagon_current/lib/python3.10/site-packages/polars/lazyframe/frame.py:1787\u001b[0m, in \u001b[0;36mLazyFrame.collect\u001b[0;34m(self, type_coercion, predicate_pushdown, projection_pushdown, simplify_expression, slice_pushdown, comm_subplan_elim, comm_subexpr_elim, no_optimization, streaming, _eager)\u001b[0m\n\u001b[1;32m   1774\u001b[0m     comm_subplan_elim \u001b[38;5;241m=\u001b[39m \u001b[38;5;28;01mFalse\u001b[39;00m\n\u001b[1;32m   1776\u001b[0m ldf \u001b[38;5;241m=\u001b[39m \u001b[38;5;28mself\u001b[39m\u001b[38;5;241m.\u001b[39m_ldf\u001b[38;5;241m.\u001b[39moptimization_toggle(\n\u001b[1;32m   1777\u001b[0m     type_coercion,\n\u001b[1;32m   1778\u001b[0m     predicate_pushdown,\n\u001b[0;32m   (...)\u001b[0m\n\u001b[1;32m   1785\u001b[0m     _eager,\n\u001b[1;32m   1786\u001b[0m )\n\u001b[0;32m-> 1787\u001b[0m \u001b[38;5;28;01mreturn\u001b[39;00m wrap_df(\u001b[43mldf\u001b[49m\u001b[38;5;241;43m.\u001b[39;49m\u001b[43mcollect\u001b[49m\u001b[43m(\u001b[49m\u001b[43m)\u001b[49m)\n",
      "\u001b[0;31mSchemaFieldNotFoundError\u001b[0m: 1"
     ]
    }
   ],
   "source": [
    "train_df = train_df.rename(mapping = {\"1\": \"target\", \"Unfortunately, the frustration of being Dr. Goldberg's patient is a repeat of the experience I've had with so many other doctors in NYC -- good doctor, terrible staff.  It seems that his staff simply never answers the phone.  It usually takes 2 hours of repeated calling to get an answer.  Who has time for that or wants to deal with it?  I have run into this problem with many other doctors and I just don't get it.  You have office workers, you have patients with medical needs, why isn't anyone answering the phone?  It's incomprehensible and not work the aggravation.  It's with regret that I feel that I have to give Dr. Goldberg 2 stars.\":\"reviews\"})\n",
    "train_df"
   ]
  },
  {
   "cell_type": "markdown",
   "id": "fc82483f",
   "metadata": {},
   "source": [
    "# DL context"
   ]
  },
  {
   "cell_type": "markdown",
   "id": "a720ffdc",
   "metadata": {},
   "source": [
    "## load data"
   ]
  },
  {
   "cell_type": "code",
   "execution_count": 25,
   "id": "02bab6e9",
   "metadata": {},
   "outputs": [],
   "source": [
    "sentences = train_df['reviews']\n",
    "y = train_df['target']"
   ]
  },
  {
   "cell_type": "code",
   "execution_count": 26,
   "id": "4e654292",
   "metadata": {},
   "outputs": [],
   "source": [
    "from tensorflow.keras.preprocessing.text import text_to_word_sequence\n",
    "from sklearn.model_selection import train_test_split\n",
    "\n",
    "def load_data(percentage_of_sentences=None):\n",
    "\n",
    "    train_sentences, test_sentences, y_train, y_test = train_test_split(sentences, y, test_size=0.3)\n",
    "\n",
    "    # Take only a given percentage of the entire data\n",
    "    if percentage_of_sentences is not None:\n",
    "        assert(percentage_of_sentences> 0 and percentage_of_sentences<=100)\n",
    "\n",
    "        len_train = int(percentage_of_sentences/100*len(train_sentences))\n",
    "        train_sentences, y_train = train_sentences[:len_train], y_train[:len_train]\n",
    "\n",
    "        len_test = int(percentage_of_sentences/100*len(test_sentences))\n",
    "        test_sentences, y_test = test_sentences[:len_test], y_test[:len_test]\n",
    "\n",
    "    X_train = [text_to_word_sequence(_) for _ in train_sentences]\n",
    "    X_test = [text_to_word_sequence(_) for _ in test_sentences]\n",
    "\n",
    "    return X_train, y_train, X_test, y_test\n",
    "\n",
    "X_train, y_train, X_test, y_test = load_data(percentage_of_sentences=10)"
   ]
  },
  {
   "cell_type": "markdown",
   "id": "b47baef5",
   "metadata": {},
   "source": [
    "## convert loaded data into components to feed into RNN"
   ]
  },
  {
   "cell_type": "code",
   "execution_count": 34,
   "id": "8debf55d",
   "metadata": {},
   "outputs": [
    {
     "name": "stdout",
     "output_type": "stream",
     "text": [
      "gensim==4.2.0\r\n"
     ]
    }
   ],
   "source": [
    "!pip freeze | grep gensim"
   ]
  },
  {
   "cell_type": "code",
   "execution_count": 38,
   "id": "e5a38c3f",
   "metadata": {},
   "outputs": [],
   "source": [
    "from gensim.models import Word2Vec\n",
    "\n",
    "word2vec = Word2Vec(sentences=X_train, vector_size=60, min_count=10, window=10)"
   ]
  },
  {
   "cell_type": "code",
   "execution_count": 30,
   "id": "e59cfcb0",
   "metadata": {},
   "outputs": [],
   "source": [
    "from tensorflow.keras.preprocessing.sequence import pad_sequences\n",
    "import numpy as np\n",
    "\n",
    "# Function to convert a sentence (list of words) into a matrix representing the words in the embedding space\n",
    "def embed_sentence(word2vec, sentence):\n",
    "    embedded_sentence = []\n",
    "    for word in sentence:\n",
    "        if word in word2vec.wv:\n",
    "            embedded_sentence.append(word2vec.wv[word])\n",
    "\n",
    "    return np.array(embedded_sentence)\n",
    "\n",
    "# Function that converts a list of sentences into a list of matrices\n",
    "def embedding(word2vec, sentences):\n",
    "    embed = []\n",
    "\n",
    "    for sentence in sentences:\n",
    "        embedded_sentence = embed_sentence(word2vec, sentence)\n",
    "        embed.append(embedded_sentence)\n",
    "\n",
    "    return embed\n",
    "\n",
    "# Embed the training and test sentences\n",
    "X_train_embed = embedding(word2vec, X_train)\n",
    "X_test_embed = embedding(word2vec, X_test)\n",
    "\n",
    "\n",
    "# Pad the training and test embedded sentences\n",
    "X_train_pad = pad_sequences(X_train_embed, dtype='float32', padding='post', maxlen=200)\n",
    "X_test_pad = pad_sequences(X_test_embed, dtype='float32', padding='post', maxlen=200)"
   ]
  },
  {
   "cell_type": "markdown",
   "id": "71241076",
   "metadata": {},
   "source": [
    "## check embeddings"
   ]
  },
  {
   "cell_type": "code",
   "execution_count": 31,
   "id": "f3dfe201",
   "metadata": {},
   "outputs": [],
   "source": [
    "for X in [X_train_pad, X_test_pad]:\n",
    "    assert type(X) == np.ndarray\n",
    "    assert X.shape[-1] == word2vec.wv.vector_size\n",
    "\n",
    "\n",
    "assert X_train_pad.shape[0] == len(X_train)\n",
    "assert X_test_pad.shape[0] == len(X_test)"
   ]
  },
  {
   "cell_type": "markdown",
   "id": "2d580b50",
   "metadata": {},
   "source": [
    "## baseline model"
   ]
  },
  {
   "cell_type": "code",
   "execution_count": 32,
   "id": "e8d33128",
   "metadata": {},
   "outputs": [
    {
     "name": "stdout",
     "output_type": "stream",
     "text": [
      "Number of labels in train set {1: 19586, 2: 19613}\n"
     ]
    },
    {
     "ename": "KeyError",
     "evalue": "0",
     "output_type": "error",
     "traceback": [
      "\u001b[0;31m---------------------------------------------------------------------------\u001b[0m",
      "\u001b[0;31mKeyError\u001b[0m                                  Traceback (most recent call last)",
      "Cell \u001b[0;32mIn [32], line 7\u001b[0m\n\u001b[1;32m      4\u001b[0m counts \u001b[38;5;241m=\u001b[39m \u001b[38;5;28mdict\u001b[39m(\u001b[38;5;28mzip\u001b[39m(unique, counts))\n\u001b[1;32m      5\u001b[0m \u001b[38;5;28mprint\u001b[39m(\u001b[38;5;124m'\u001b[39m\u001b[38;5;124mNumber of labels in train set\u001b[39m\u001b[38;5;124m'\u001b[39m, counts)\n\u001b[0;32m----> 7\u001b[0m y_pred \u001b[38;5;241m=\u001b[39m \u001b[38;5;241m0\u001b[39m \u001b[38;5;28;01mif\u001b[39;00m \u001b[43mcounts\u001b[49m\u001b[43m[\u001b[49m\u001b[38;5;241;43m0\u001b[39;49m\u001b[43m]\u001b[49m \u001b[38;5;241m>\u001b[39m counts[\u001b[38;5;241m1\u001b[39m] \u001b[38;5;28;01melse\u001b[39;00m \u001b[38;5;241m1\u001b[39m\n\u001b[1;32m      9\u001b[0m \u001b[38;5;28mprint\u001b[39m(\u001b[38;5;124m'\u001b[39m\u001b[38;5;124mBaseline accuracy: \u001b[39m\u001b[38;5;124m'\u001b[39m, accuracy_score(y_test, [y_pred]\u001b[38;5;241m*\u001b[39m\u001b[38;5;28mlen\u001b[39m(y_test)))\n",
      "\u001b[0;31mKeyError\u001b[0m: 0"
     ]
    }
   ],
   "source": [
    "from sklearn.metrics import accuracy_score\n",
    "\n",
    "unique, counts = np.unique(y_train, return_counts=True)\n",
    "counts = dict(zip(unique, counts))\n",
    "print('Number of labels in train set', counts)\n",
    "\n",
    "y_pred = 0 if counts[0] > counts[1] else 1\n",
    "\n",
    "print('Baseline accuracy: ', accuracy_score(y_test, [y_pred]*len(y_test)))\n"
   ]
  },
  {
   "cell_type": "code",
   "execution_count": null,
   "id": "94fb2a92",
   "metadata": {},
   "outputs": [],
   "source": []
  },
  {
   "cell_type": "code",
   "execution_count": null,
   "id": "7da4958c",
   "metadata": {},
   "outputs": [],
   "source": []
  },
  {
   "cell_type": "code",
   "execution_count": null,
   "id": "9f63e3d4",
   "metadata": {},
   "outputs": [],
   "source": []
  },
  {
   "cell_type": "code",
   "execution_count": 4,
   "id": "a86b886a",
   "metadata": {},
   "outputs": [],
   "source": [
    "#train_df = train_df.drop(columns=[\"target\"])"
   ]
  },
  {
   "cell_type": "markdown",
   "id": "644ac59d",
   "metadata": {
    "heading_collapsed": true
   },
   "source": [
    "# ML context"
   ]
  },
  {
   "cell_type": "markdown",
   "id": "e9692aa1",
   "metadata": {
    "hidden": true
   },
   "source": [
    "***from here i have three options:***\n",
    "\n",
    "\n",
    "\n",
    "1. cut my dataset in half because the full size of it is too much for the function to process\n",
    "2. modify the function to take the dataset in, in chunks\n",
    "3. do this all from a cloud platform so that running commands doesn't make my laptop pack up"
   ]
  },
  {
   "cell_type": "code",
   "execution_count": 4,
   "id": "72f7805f",
   "metadata": {
    "hidden": true
   },
   "outputs": [
    {
     "data": {
      "text/html": [
       "<div>\n",
       "<style scoped>\n",
       "    .dataframe tbody tr th:only-of-type {\n",
       "        vertical-align: middle;\n",
       "    }\n",
       "\n",
       "    .dataframe tbody tr th {\n",
       "        vertical-align: top;\n",
       "    }\n",
       "\n",
       "    .dataframe thead th {\n",
       "        text-align: right;\n",
       "    }\n",
       "</style>\n",
       "<table border=\"1\" class=\"dataframe\">\n",
       "  <thead>\n",
       "    <tr style=\"text-align: right;\">\n",
       "      <th></th>\n",
       "      <th>target</th>\n",
       "      <th>reviews</th>\n",
       "    </tr>\n",
       "  </thead>\n",
       "  <tbody>\n",
       "    <tr>\n",
       "      <th>1</th>\n",
       "      <td>1</td>\n",
       "      <td>I don't know what Dr. Goldberg was like before...</td>\n",
       "    </tr>\n",
       "    <tr>\n",
       "      <th>2</th>\n",
       "      <td>1</td>\n",
       "      <td>I'm writing this review to give you a heads up...</td>\n",
       "    </tr>\n",
       "    <tr>\n",
       "      <th>3</th>\n",
       "      <td>2</td>\n",
       "      <td>All the food is great here. But the best thing...</td>\n",
       "    </tr>\n",
       "    <tr>\n",
       "      <th>4</th>\n",
       "      <td>1</td>\n",
       "      <td>Wing sauce is like water. Pretty much a lot of...</td>\n",
       "    </tr>\n",
       "    <tr>\n",
       "      <th>5</th>\n",
       "      <td>1</td>\n",
       "      <td>Owning a driving range inside the city limits ...</td>\n",
       "    </tr>\n",
       "    <tr>\n",
       "      <th>...</th>\n",
       "      <td>...</td>\n",
       "      <td>...</td>\n",
       "    </tr>\n",
       "    <tr>\n",
       "      <th>186661</th>\n",
       "      <td>1</td>\n",
       "      <td>Happy hour in the bar is a steal if you can fa...</td>\n",
       "    </tr>\n",
       "    <tr>\n",
       "      <th>186662</th>\n",
       "      <td>2</td>\n",
       "      <td>Truly the most beautiful restaurant I have din...</td>\n",
       "    </tr>\n",
       "    <tr>\n",
       "      <th>186663</th>\n",
       "      <td>2</td>\n",
       "      <td>My ablsolute favorite restaurant in Las Vegas....</td>\n",
       "    </tr>\n",
       "    <tr>\n",
       "      <th>186664</th>\n",
       "      <td>2</td>\n",
       "      <td>Nice interior with warm read colors, high ceil...</td>\n",
       "    </tr>\n",
       "    <tr>\n",
       "      <th>186665</th>\n",
       "      <td>1</td>\n",
       "      <td>Stick to Beef, seafood is not fresh, a disappo...</td>\n",
       "    </tr>\n",
       "  </tbody>\n",
       "</table>\n",
       "<p>186665 rows × 2 columns</p>\n",
       "</div>"
      ],
      "text/plain": [
       "        target                                            reviews\n",
       "1            1  I don't know what Dr. Goldberg was like before...\n",
       "2            1  I'm writing this review to give you a heads up...\n",
       "3            2  All the food is great here. But the best thing...\n",
       "4            1  Wing sauce is like water. Pretty much a lot of...\n",
       "5            1  Owning a driving range inside the city limits ...\n",
       "...        ...                                                ...\n",
       "186661       1  Happy hour in the bar is a steal if you can fa...\n",
       "186662       2  Truly the most beautiful restaurant I have din...\n",
       "186663       2  My ablsolute favorite restaurant in Las Vegas....\n",
       "186664       2  Nice interior with warm read colors, high ceil...\n",
       "186665       1  Stick to Beef, seafood is not fresh, a disappo...\n",
       "\n",
       "[186665 rows x 2 columns]"
      ]
     },
     "execution_count": 4,
     "metadata": {},
     "output_type": "execute_result"
    }
   ],
   "source": [
    "train_df_1 = train_df.iloc[1:186666]\n",
    "train_df_2 = train_df.iloc[186666:]\n",
    "\n",
    "train_df_1"
   ]
  },
  {
   "cell_type": "code",
   "execution_count": 5,
   "id": "98917998",
   "metadata": {
    "hidden": true
   },
   "outputs": [],
   "source": [
    "from nltk.tokenize import word_tokenize\n",
    "from nltk.corpus import stopwords \n",
    "import string\n",
    "import unidecode"
   ]
  },
  {
   "cell_type": "code",
   "execution_count": 7,
   "id": "6fdbae07",
   "metadata": {
    "hidden": true
   },
   "outputs": [
    {
     "name": "stderr",
     "output_type": "stream",
     "text": [
      "/var/folders/y2/m4k5jspd3091p82l071_qqbh0000gp/T/ipykernel_36800/3241784974.py:16: SettingWithCopyWarning: \n",
      "A value is trying to be set on a copy of a slice from a DataFrame.\n",
      "Try using .loc[row_indexer,col_indexer] = value instead\n",
      "\n",
      "See the caveats in the documentation: https://pandas.pydata.org/pandas-docs/stable/user_guide/indexing.html#returning-a-view-versus-a-copy\n",
      "  train_df_1['clean_text'] = train_df_1['reviews'].apply(clean)\n"
     ]
    },
    {
     "data": {
      "text/html": [
       "<div>\n",
       "<style scoped>\n",
       "    .dataframe tbody tr th:only-of-type {\n",
       "        vertical-align: middle;\n",
       "    }\n",
       "\n",
       "    .dataframe tbody tr th {\n",
       "        vertical-align: top;\n",
       "    }\n",
       "\n",
       "    .dataframe thead th {\n",
       "        text-align: right;\n",
       "    }\n",
       "</style>\n",
       "<table border=\"1\" class=\"dataframe\">\n",
       "  <thead>\n",
       "    <tr style=\"text-align: right;\">\n",
       "      <th></th>\n",
       "      <th>target</th>\n",
       "      <th>reviews</th>\n",
       "      <th>clean_text</th>\n",
       "    </tr>\n",
       "  </thead>\n",
       "  <tbody>\n",
       "    <tr>\n",
       "      <th>1</th>\n",
       "      <td>1</td>\n",
       "      <td>I don't know what Dr. Goldberg was like before...</td>\n",
       "      <td>i don t know what dr goldberg was like before ...</td>\n",
       "    </tr>\n",
       "    <tr>\n",
       "      <th>2</th>\n",
       "      <td>1</td>\n",
       "      <td>I'm writing this review to give you a heads up...</td>\n",
       "      <td>i m writing this review to give you a heads up...</td>\n",
       "    </tr>\n",
       "    <tr>\n",
       "      <th>3</th>\n",
       "      <td>2</td>\n",
       "      <td>All the food is great here. But the best thing...</td>\n",
       "      <td>all the food is great here but the best thing ...</td>\n",
       "    </tr>\n",
       "    <tr>\n",
       "      <th>4</th>\n",
       "      <td>1</td>\n",
       "      <td>Wing sauce is like water. Pretty much a lot of...</td>\n",
       "      <td>wing sauce is like water pretty much a lot of ...</td>\n",
       "    </tr>\n",
       "    <tr>\n",
       "      <th>5</th>\n",
       "      <td>1</td>\n",
       "      <td>Owning a driving range inside the city limits ...</td>\n",
       "      <td>owning a driving range inside the city limits ...</td>\n",
       "    </tr>\n",
       "  </tbody>\n",
       "</table>\n",
       "</div>"
      ],
      "text/plain": [
       "   target                                            reviews  \\\n",
       "1       1  I don't know what Dr. Goldberg was like before...   \n",
       "2       1  I'm writing this review to give you a heads up...   \n",
       "3       2  All the food is great here. But the best thing...   \n",
       "4       1  Wing sauce is like water. Pretty much a lot of...   \n",
       "5       1  Owning a driving range inside the city limits ...   \n",
       "\n",
       "                                          clean_text  \n",
       "1  i don t know what dr goldberg was like before ...  \n",
       "2  i m writing this review to give you a heads up...  \n",
       "3  all the food is great here but the best thing ...  \n",
       "4  wing sauce is like water pretty much a lot of ...  \n",
       "5  owning a driving range inside the city limits ...  "
      ]
     },
     "execution_count": 7,
     "metadata": {},
     "output_type": "execute_result"
    }
   ],
   "source": [
    "def clean(text):\n",
    "    \n",
    "    for punctuation in string.punctuation:\n",
    "        text = text.replace(punctuation, ' ') # Remove Punctuation\n",
    "        \n",
    "    lowercased = text.lower() # Lower Case\n",
    "    \n",
    "    unaccented_string = unidecode.unidecode(lowercased) # remove accents\n",
    "    \n",
    "    tokenized = word_tokenize(unaccented_string) # Tokenize\n",
    "    \n",
    "    words_only = [word for word in tokenized if word.isalpha()] # Remove numbers\n",
    "    \n",
    "    return \" \".join(words_only)\n",
    "\n",
    "train_df_1['clean_text'] = train_df_1['reviews'].apply(clean)\n",
    "\n",
    "train_df_1.head()"
   ]
  },
  {
   "cell_type": "code",
   "execution_count": 8,
   "id": "f24cc24f",
   "metadata": {
    "hidden": true
   },
   "outputs": [],
   "source": [
    "from sklearn.feature_extraction.text import TfidfVectorizer\n",
    "\n",
    "vectorizer = TfidfVectorizer(ngram_range = (1,1), \n",
    "                             min_df=0.01, \n",
    "                             max_df = 0.05).fit(train_df_1.clean_text)"
   ]
  },
  {
   "cell_type": "markdown",
   "id": "b1441bf0",
   "metadata": {
    "hidden": true
   },
   "source": [
    "ngram_range is the lower and upper boundary of the range of n-values for different n-grams to be extracted. min_df and max_df are the thresholds as percentages of a vocabulary's document frequency to ignore. we are fitting the vectorizer model to the cleaned version of the training dataset."
   ]
  },
  {
   "cell_type": "code",
   "execution_count": 9,
   "id": "ba7fb231",
   "metadata": {
    "hidden": true
   },
   "outputs": [
    {
     "data": {
      "text/html": [
       "<div>\n",
       "<style scoped>\n",
       "    .dataframe tbody tr th:only-of-type {\n",
       "        vertical-align: middle;\n",
       "    }\n",
       "\n",
       "    .dataframe tbody tr th {\n",
       "        vertical-align: top;\n",
       "    }\n",
       "\n",
       "    .dataframe thead th {\n",
       "        text-align: right;\n",
       "    }\n",
       "</style>\n",
       "<table border=\"1\" class=\"dataframe\">\n",
       "  <thead>\n",
       "    <tr style=\"text-align: right;\">\n",
       "      <th></th>\n",
       "      <th>able</th>\n",
       "      <th>above</th>\n",
       "      <th>absolutely</th>\n",
       "      <th>across</th>\n",
       "      <th>actual</th>\n",
       "      <th>add</th>\n",
       "      <th>added</th>\n",
       "      <th>afternoon</th>\n",
       "      <th>ago</th>\n",
       "      <th>ahead</th>\n",
       "      <th>...</th>\n",
       "      <th>wynn</th>\n",
       "      <th>yeah</th>\n",
       "      <th>year</th>\n",
       "      <th>yelp</th>\n",
       "      <th>yes</th>\n",
       "      <th>yet</th>\n",
       "      <th>young</th>\n",
       "      <th>yourself</th>\n",
       "      <th>yum</th>\n",
       "      <th>yummy</th>\n",
       "    </tr>\n",
       "  </thead>\n",
       "  <tbody>\n",
       "    <tr>\n",
       "      <th>0</th>\n",
       "      <td>0.0</td>\n",
       "      <td>0.0</td>\n",
       "      <td>0.0</td>\n",
       "      <td>0.0</td>\n",
       "      <td>0.0</td>\n",
       "      <td>0.0</td>\n",
       "      <td>0.0</td>\n",
       "      <td>0.0</td>\n",
       "      <td>0.0</td>\n",
       "      <td>0.0</td>\n",
       "      <td>...</td>\n",
       "      <td>0.0</td>\n",
       "      <td>0.0</td>\n",
       "      <td>0.000000</td>\n",
       "      <td>0.0</td>\n",
       "      <td>0.0</td>\n",
       "      <td>0.000000</td>\n",
       "      <td>0.0</td>\n",
       "      <td>0.0</td>\n",
       "      <td>0.0</td>\n",
       "      <td>0.0</td>\n",
       "    </tr>\n",
       "    <tr>\n",
       "      <th>1</th>\n",
       "      <td>0.0</td>\n",
       "      <td>0.0</td>\n",
       "      <td>0.0</td>\n",
       "      <td>0.0</td>\n",
       "      <td>0.0</td>\n",
       "      <td>0.0</td>\n",
       "      <td>0.0</td>\n",
       "      <td>0.0</td>\n",
       "      <td>0.0</td>\n",
       "      <td>0.0</td>\n",
       "      <td>...</td>\n",
       "      <td>0.0</td>\n",
       "      <td>0.0</td>\n",
       "      <td>0.000000</td>\n",
       "      <td>0.0</td>\n",
       "      <td>0.0</td>\n",
       "      <td>0.000000</td>\n",
       "      <td>0.0</td>\n",
       "      <td>0.0</td>\n",
       "      <td>0.0</td>\n",
       "      <td>0.0</td>\n",
       "    </tr>\n",
       "    <tr>\n",
       "      <th>2</th>\n",
       "      <td>0.0</td>\n",
       "      <td>0.0</td>\n",
       "      <td>0.0</td>\n",
       "      <td>0.0</td>\n",
       "      <td>0.0</td>\n",
       "      <td>0.0</td>\n",
       "      <td>0.0</td>\n",
       "      <td>0.0</td>\n",
       "      <td>0.0</td>\n",
       "      <td>0.0</td>\n",
       "      <td>...</td>\n",
       "      <td>0.0</td>\n",
       "      <td>0.0</td>\n",
       "      <td>0.000000</td>\n",
       "      <td>0.0</td>\n",
       "      <td>0.0</td>\n",
       "      <td>0.000000</td>\n",
       "      <td>0.0</td>\n",
       "      <td>0.0</td>\n",
       "      <td>0.0</td>\n",
       "      <td>0.0</td>\n",
       "    </tr>\n",
       "    <tr>\n",
       "      <th>3</th>\n",
       "      <td>0.0</td>\n",
       "      <td>0.0</td>\n",
       "      <td>0.0</td>\n",
       "      <td>0.0</td>\n",
       "      <td>0.0</td>\n",
       "      <td>0.0</td>\n",
       "      <td>0.0</td>\n",
       "      <td>0.0</td>\n",
       "      <td>0.0</td>\n",
       "      <td>0.0</td>\n",
       "      <td>...</td>\n",
       "      <td>0.0</td>\n",
       "      <td>0.0</td>\n",
       "      <td>0.000000</td>\n",
       "      <td>0.0</td>\n",
       "      <td>0.0</td>\n",
       "      <td>0.000000</td>\n",
       "      <td>0.0</td>\n",
       "      <td>0.0</td>\n",
       "      <td>0.0</td>\n",
       "      <td>0.0</td>\n",
       "    </tr>\n",
       "    <tr>\n",
       "      <th>4</th>\n",
       "      <td>0.0</td>\n",
       "      <td>0.0</td>\n",
       "      <td>0.0</td>\n",
       "      <td>0.0</td>\n",
       "      <td>0.0</td>\n",
       "      <td>0.0</td>\n",
       "      <td>0.0</td>\n",
       "      <td>0.0</td>\n",
       "      <td>0.0</td>\n",
       "      <td>0.0</td>\n",
       "      <td>...</td>\n",
       "      <td>0.0</td>\n",
       "      <td>0.0</td>\n",
       "      <td>0.155048</td>\n",
       "      <td>0.0</td>\n",
       "      <td>0.0</td>\n",
       "      <td>0.326018</td>\n",
       "      <td>0.0</td>\n",
       "      <td>0.0</td>\n",
       "      <td>0.0</td>\n",
       "      <td>0.0</td>\n",
       "    </tr>\n",
       "  </tbody>\n",
       "</table>\n",
       "<p>5 rows × 855 columns</p>\n",
       "</div>"
      ],
      "text/plain": [
       "   able  above  absolutely  across  actual  add  added  afternoon  ago  ahead  \\\n",
       "0   0.0    0.0         0.0     0.0     0.0  0.0    0.0        0.0  0.0    0.0   \n",
       "1   0.0    0.0         0.0     0.0     0.0  0.0    0.0        0.0  0.0    0.0   \n",
       "2   0.0    0.0         0.0     0.0     0.0  0.0    0.0        0.0  0.0    0.0   \n",
       "3   0.0    0.0         0.0     0.0     0.0  0.0    0.0        0.0  0.0    0.0   \n",
       "4   0.0    0.0         0.0     0.0     0.0  0.0    0.0        0.0  0.0    0.0   \n",
       "\n",
       "   ...  wynn  yeah      year  yelp  yes       yet  young  yourself  yum  yummy  \n",
       "0  ...   0.0   0.0  0.000000   0.0  0.0  0.000000    0.0       0.0  0.0    0.0  \n",
       "1  ...   0.0   0.0  0.000000   0.0  0.0  0.000000    0.0       0.0  0.0    0.0  \n",
       "2  ...   0.0   0.0  0.000000   0.0  0.0  0.000000    0.0       0.0  0.0    0.0  \n",
       "3  ...   0.0   0.0  0.000000   0.0  0.0  0.000000    0.0       0.0  0.0    0.0  \n",
       "4  ...   0.0   0.0  0.155048   0.0  0.0  0.326018    0.0       0.0  0.0    0.0  \n",
       "\n",
       "[5 rows x 855 columns]"
      ]
     },
     "execution_count": 9,
     "metadata": {},
     "output_type": "execute_result"
    }
   ],
   "source": [
    "vectors = pd.DataFrame(vectorizer.transform(train_df_1.clean_text).toarray(),\n",
    "                       columns = vectorizer.get_feature_names_out())\n",
    "vectors.head()"
   ]
  },
  {
   "cell_type": "code",
   "execution_count": 10,
   "id": "97af3f0c",
   "metadata": {
    "hidden": true
   },
   "outputs": [
    {
     "data": {
      "text/plain": [
       "able          1077.261046\n",
       "above          593.254408\n",
       "absolutely    1171.546406\n",
       "across         827.982614\n",
       "actual         374.840962\n",
       "                 ...     \n",
       "yet           1032.427903\n",
       "young          480.115928\n",
       "yourself       723.044510\n",
       "yum            530.978946\n",
       "yummy          844.501830\n",
       "Length: 855, dtype: float64"
      ]
     },
     "execution_count": 10,
     "metadata": {},
     "output_type": "execute_result"
    }
   ],
   "source": [
    "sum_tfidf = vectors.sum(axis = 0)\n",
    "sum_tfidf"
   ]
  },
  {
   "cell_type": "code",
   "execution_count": 11,
   "id": "d0a1f4a3",
   "metadata": {
    "hidden": true
   },
   "outputs": [
    {
     "name": "stderr",
     "output_type": "stream",
     "text": [
      "/var/folders/y2/m4k5jspd3091p82l071_qqbh0000gp/T/ipykernel_36800/3831260861.py:4: SettingWithCopyWarning: \n",
      "A value is trying to be set on a copy of a slice from a DataFrame.\n",
      "Try using .loc[row_indexer,col_indexer] = value instead\n",
      "\n",
      "See the caveats in the documentation: https://pandas.pydata.org/pandas-docs/stable/user_guide/indexing.html#returning-a-view-versus-a-copy\n",
      "  train_df_1[\"target_encoded\"] =  le.fit_transform(train_df_1.target)\n"
     ]
    }
   ],
   "source": [
    "from sklearn import preprocessing\n",
    "\n",
    "le = preprocessing.LabelEncoder()\n",
    "train_df_1[\"target_encoded\"] =  le.fit_transform(train_df_1.target)"
   ]
  },
  {
   "cell_type": "code",
   "execution_count": 12,
   "id": "7cca9be7",
   "metadata": {
    "hidden": true
   },
   "outputs": [
    {
     "data": {
      "text/html": [
       "<div>\n",
       "<style scoped>\n",
       "    .dataframe tbody tr th:only-of-type {\n",
       "        vertical-align: middle;\n",
       "    }\n",
       "\n",
       "    .dataframe tbody tr th {\n",
       "        vertical-align: top;\n",
       "    }\n",
       "\n",
       "    .dataframe thead th {\n",
       "        text-align: right;\n",
       "    }\n",
       "</style>\n",
       "<table border=\"1\" class=\"dataframe\">\n",
       "  <thead>\n",
       "    <tr style=\"text-align: right;\">\n",
       "      <th></th>\n",
       "      <th>target</th>\n",
       "      <th>reviews</th>\n",
       "      <th>clean_text</th>\n",
       "      <th>target_encoded</th>\n",
       "    </tr>\n",
       "  </thead>\n",
       "  <tbody>\n",
       "    <tr>\n",
       "      <th>1</th>\n",
       "      <td>1</td>\n",
       "      <td>I don't know what Dr. Goldberg was like before...</td>\n",
       "      <td>i don t know what dr goldberg was like before ...</td>\n",
       "      <td>0</td>\n",
       "    </tr>\n",
       "    <tr>\n",
       "      <th>2</th>\n",
       "      <td>1</td>\n",
       "      <td>I'm writing this review to give you a heads up...</td>\n",
       "      <td>i m writing this review to give you a heads up...</td>\n",
       "      <td>0</td>\n",
       "    </tr>\n",
       "    <tr>\n",
       "      <th>3</th>\n",
       "      <td>2</td>\n",
       "      <td>All the food is great here. But the best thing...</td>\n",
       "      <td>all the food is great here but the best thing ...</td>\n",
       "      <td>1</td>\n",
       "    </tr>\n",
       "    <tr>\n",
       "      <th>4</th>\n",
       "      <td>1</td>\n",
       "      <td>Wing sauce is like water. Pretty much a lot of...</td>\n",
       "      <td>wing sauce is like water pretty much a lot of ...</td>\n",
       "      <td>0</td>\n",
       "    </tr>\n",
       "    <tr>\n",
       "      <th>5</th>\n",
       "      <td>1</td>\n",
       "      <td>Owning a driving range inside the city limits ...</td>\n",
       "      <td>owning a driving range inside the city limits ...</td>\n",
       "      <td>0</td>\n",
       "    </tr>\n",
       "    <tr>\n",
       "      <th>...</th>\n",
       "      <td>...</td>\n",
       "      <td>...</td>\n",
       "      <td>...</td>\n",
       "      <td>...</td>\n",
       "    </tr>\n",
       "    <tr>\n",
       "      <th>186661</th>\n",
       "      <td>1</td>\n",
       "      <td>Happy hour in the bar is a steal if you can fa...</td>\n",
       "      <td>happy hour in the bar is a steal if you can fa...</td>\n",
       "      <td>0</td>\n",
       "    </tr>\n",
       "    <tr>\n",
       "      <th>186662</th>\n",
       "      <td>2</td>\n",
       "      <td>Truly the most beautiful restaurant I have din...</td>\n",
       "      <td>truly the most beautiful restaurant i have din...</td>\n",
       "      <td>1</td>\n",
       "    </tr>\n",
       "    <tr>\n",
       "      <th>186663</th>\n",
       "      <td>2</td>\n",
       "      <td>My ablsolute favorite restaurant in Las Vegas....</td>\n",
       "      <td>my ablsolute favorite restaurant in las vegas ...</td>\n",
       "      <td>1</td>\n",
       "    </tr>\n",
       "    <tr>\n",
       "      <th>186664</th>\n",
       "      <td>2</td>\n",
       "      <td>Nice interior with warm read colors, high ceil...</td>\n",
       "      <td>nice interior with warm read colors high ceili...</td>\n",
       "      <td>1</td>\n",
       "    </tr>\n",
       "    <tr>\n",
       "      <th>186665</th>\n",
       "      <td>1</td>\n",
       "      <td>Stick to Beef, seafood is not fresh, a disappo...</td>\n",
       "      <td>stick to beef seafood is not fresh a disappoin...</td>\n",
       "      <td>0</td>\n",
       "    </tr>\n",
       "  </tbody>\n",
       "</table>\n",
       "<p>186665 rows × 4 columns</p>\n",
       "</div>"
      ],
      "text/plain": [
       "        target                                            reviews  \\\n",
       "1            1  I don't know what Dr. Goldberg was like before...   \n",
       "2            1  I'm writing this review to give you a heads up...   \n",
       "3            2  All the food is great here. But the best thing...   \n",
       "4            1  Wing sauce is like water. Pretty much a lot of...   \n",
       "5            1  Owning a driving range inside the city limits ...   \n",
       "...        ...                                                ...   \n",
       "186661       1  Happy hour in the bar is a steal if you can fa...   \n",
       "186662       2  Truly the most beautiful restaurant I have din...   \n",
       "186663       2  My ablsolute favorite restaurant in Las Vegas....   \n",
       "186664       2  Nice interior with warm read colors, high ceil...   \n",
       "186665       1  Stick to Beef, seafood is not fresh, a disappo...   \n",
       "\n",
       "                                               clean_text  target_encoded  \n",
       "1       i don t know what dr goldberg was like before ...               0  \n",
       "2       i m writing this review to give you a heads up...               0  \n",
       "3       all the food is great here but the best thing ...               1  \n",
       "4       wing sauce is like water pretty much a lot of ...               0  \n",
       "5       owning a driving range inside the city limits ...               0  \n",
       "...                                                   ...             ...  \n",
       "186661  happy hour in the bar is a steal if you can fa...               0  \n",
       "186662  truly the most beautiful restaurant i have din...               1  \n",
       "186663  my ablsolute favorite restaurant in las vegas ...               1  \n",
       "186664  nice interior with warm read colors high ceili...               1  \n",
       "186665  stick to beef seafood is not fresh a disappoin...               0  \n",
       "\n",
       "[186665 rows x 4 columns]"
      ]
     },
     "execution_count": 12,
     "metadata": {},
     "output_type": "execute_result"
    }
   ],
   "source": [
    "train_df_1"
   ]
  },
  {
   "cell_type": "code",
   "execution_count": 13,
   "id": "c2a49807",
   "metadata": {
    "hidden": true
   },
   "outputs": [
    {
     "data": {
      "text/plain": [
       "0.81"
      ]
     },
     "execution_count": 13,
     "metadata": {},
     "output_type": "execute_result"
    }
   ],
   "source": [
    "from sklearn.naive_bayes import MultinomialNB\n",
    "from sklearn.model_selection import cross_validate\n",
    "\n",
    "naivebayes = MultinomialNB()\n",
    "\n",
    "X_bow = vectorizer.fit_transform(train_df_1.clean_text)\n",
    "\n",
    "cv_nb = cross_validate(\n",
    "    naivebayes,\n",
    "    X_bow,\n",
    "    train_df_1.target_encoded,\n",
    "    scoring = \"accuracy\"\n",
    ")\n",
    "\n",
    "round(cv_nb['test_score'].mean(),2)"
   ]
  },
  {
   "cell_type": "code",
   "execution_count": 47,
   "id": "b7b76573",
   "metadata": {
    "hidden": true
   },
   "outputs": [],
   "source": [
    "#import pickle\n",
    "\n",
    "# Export Pipeline as pickle file\n",
    "#with open(\"pipeline.pkl\", \"wb\") as file:\n",
    "    #pickle.dump(pipeline, file)\n",
    "\n",
    "# Load Pipeline from pickle file\n",
    "#my_pipeline = pickle.load(open(\"pipeline.pkl\",\"rb\"))"
   ]
  },
  {
   "cell_type": "code",
   "execution_count": 28,
   "id": "e355e8f8",
   "metadata": {
    "hidden": true,
    "scrolled": true
   },
   "outputs": [],
   "source": [
    "#tfidf_list = [(word, sum_tfidf[word]) \n",
    "              #for word, idx in vectorizer.vocabulary_.items() \n",
    "              #if word in vectorizer.vocabulary_.keys() ]\n",
    "#tfidf_list"
   ]
  },
  {
   "cell_type": "code",
   "execution_count": 29,
   "id": "c049c945",
   "metadata": {
    "hidden": true
   },
   "outputs": [],
   "source": [
    "#sorted_tfidf_list =sorted(tfidf_list, key = lambda x: x[1], reverse=True)\n",
    "#sorted_tfidf_list"
   ]
  },
  {
   "cell_type": "code",
   "execution_count": null,
   "id": "e085b9f6",
   "metadata": {
    "hidden": true
   },
   "outputs": [],
   "source": []
  }
 ],
 "metadata": {
  "kernelspec": {
   "display_name": "Python 3 (ipykernel)",
   "language": "python",
   "name": "python3"
  },
  "language_info": {
   "codemirror_mode": {
    "name": "ipython",
    "version": 3
   },
   "file_extension": ".py",
   "mimetype": "text/x-python",
   "name": "python",
   "nbconvert_exporter": "python",
   "pygments_lexer": "ipython3",
   "version": "3.10.6"
  },
  "toc": {
   "base_numbering": 1,
   "nav_menu": {},
   "number_sections": true,
   "sideBar": true,
   "skip_h1_title": false,
   "title_cell": "Table of Contents",
   "title_sidebar": "Contents",
   "toc_cell": false,
   "toc_position": {},
   "toc_section_display": true,
   "toc_window_display": false
  }
 },
 "nbformat": 4,
 "nbformat_minor": 5
}
